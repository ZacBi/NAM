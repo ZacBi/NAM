{
 "cells": [
  {
   "cell_type": "markdown",
   "id": "ff2450a5-cfc1-4050-a1c6-d71586db5344",
   "metadata": {
    "execution": {
     "iopub.execute_input": "2024-05-01T07:20:06.858321Z",
     "iopub.status.busy": "2024-05-01T07:20:06.858031Z",
     "iopub.status.idle": "2024-05-01T07:20:06.861321Z",
     "shell.execute_reply": "2024-05-01T07:20:06.860897Z",
     "shell.execute_reply.started": "2024-05-01T07:20:06.858304Z"
    },
    "tags": []
   },
   "source": [
    "# Stable Diffusion & Eva & Interpret"
   ]
  },
  {
   "cell_type": "code",
   "execution_count": null,
   "id": "24103f30-b70d-4f74-b992-8065fa3ec847",
   "metadata": {},
   "outputs": [],
   "source": [
    "from os import path\n",
    "\n",
    "import pyarrow as pa\n",
    "import torch\n",
    "from datasets import load_dataset\n",
    "from detectron2.checkpoint import DetectionCheckpointer\n",
    "from detectron2.config import LazyConfig, get_cfg, instantiate\n",
    "from detectron2.data import MetadataCatalog\n",
    "from detectron2.data.detection_utils import read_image\n",
    "from detectron2.engine.defaults import DefaultPredictor\n",
    "from detectron2.utils.logger import setup_logger\n",
    "from detectron2.utils.video_visualizer import VideoVisualizer\n",
    "from detectron2.utils.visualizer import ColorMode, Visualizer\n",
    "from diffusers import AutoPipelineForText2Image\n",
    "from huggingface_hub import hf_hub_download\n",
    "from modelscope import AutoTokenizer\n",
    "from modelscope.hub.snapshot_download import snapshot_download\n",
    "from modelscope.models import Model\n",
    "from modelscope.msdatasets import MsDataset\n",
    "from modelscope.pipelines import pipeline\n",
    "from modelscope.preprocessors import Preprocessor\n",
    "from modelscope.utils.constant import Tasks\n",
    "from transformers import AutoModel, LlamaModel"
   ]
  },
  {
   "cell_type": "code",
   "execution_count": null,
   "id": "bb2a6eaa",
   "metadata": {},
   "outputs": [],
   "source": []
  }
 ],
 "metadata": {
  "kernelspec": {
   "display_name": "modelscope",
   "language": "python",
   "name": "python3"
  },
  "language_info": {
   "codemirror_mode": {
    "name": "ipython",
    "version": 3
   },
   "file_extension": ".py",
   "mimetype": "text/x-python",
   "name": "python",
   "nbconvert_exporter": "python",
   "pygments_lexer": "ipython3",
   "version": "3.10.13"
  }
 },
 "nbformat": 4,
 "nbformat_minor": 5
}
