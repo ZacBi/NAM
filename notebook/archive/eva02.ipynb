{
 "cells": [
  {
   "cell_type": "markdown",
   "id": "8bee1a0f-019e-4965-86da-ff6df855d6c0",
   "metadata": {},
   "source": [
    "# Eva 02"
   ]
  },
  {
   "cell_type": "markdown",
   "id": "29cb82e8-606e-4ec4-9aae-b10b31fec35e",
   "metadata": {},
   "source": [
    "## prepare"
   ]
  },
  {
   "cell_type": "code",
   "execution_count": null,
   "id": "b2829133-425d-4c2f-81e7-79faf787c4a1",
   "metadata": {
    "ExecutionIndicator": {
     "show": true
    },
    "execution": {
     "iopub.execute_input": "2024-04-28T10:36:14.560697Z",
     "iopub.status.busy": "2024-04-28T10:36:14.560530Z",
     "iopub.status.idle": "2024-04-28T10:36:19.255822Z",
     "shell.execute_reply": "2024-04-28T10:36:19.255271Z",
     "shell.execute_reply.started": "2024-04-28T10:36:14.560679Z"
    },
    "tags": []
   },
   "outputs": [],
   "source": [
    "from os import path\n",
    "\n",
    "import torch\n",
    "\n",
    "# from modelscope.models import Model\n",
    "# from modelscope.pipelines import pipeline\n",
    "# from modelscope.preprocessors import Preprocessor\n",
    "# from modelscope.utils.constant import Tasks\n",
    "from modelscope.hub.snapshot_download import snapshot_download\n",
    "\n",
    "from detectron2.config import get_cfg, LazyConfig\n",
    "from detectron2.data.detection_utils import read_image\n",
    "from detectron2.utils.logger import setup_logger\n",
    "from detectron2.data.detection_utils import read_image\n",
    "from detectron2.utils.logger import setup_logger\n",
    "\n",
    "from detectron2.data import MetadataCatalog\n",
    "from detectron2.engine.defaults import DefaultPredictor\n",
    "from detectron2.utils.video_visualizer import VideoVisualizer\n",
    "from detectron2.utils.visualizer import ColorMode, Visualizer"
   ]
  },
  {
   "cell_type": "code",
   "execution_count": null,
   "id": "b85d514f-9139-4c7f-9380-e1990e873e5e",
   "metadata": {
    "ExecutionIndicator": {
     "show": true
    },
    "execution": {
     "iopub.execute_input": "2024-04-28T10:59:34.851555Z",
     "iopub.status.busy": "2024-04-28T10:59:34.850932Z",
     "iopub.status.idle": "2024-04-28T10:59:34.855344Z",
     "shell.execute_reply": "2024-04-28T10:59:34.854822Z",
     "shell.execute_reply.started": "2024-04-28T10:59:34.851531Z"
    },
    "tags": []
   },
   "outputs": [],
   "source": [
    "base_url = r'/mnt/workspace'\n",
    "ckpt_base_pth = path.join(base_url, 'model')\n",
    "data_base_path = path.join(base_url, \"data\")\n",
    "\n",
    "eva02_base_path = '/mnt/workspace/model/zacbi2023/eva02'\n",
    "eva02_config_path = path.join(eva02_base_path, 'projects/ViTDet/configs/eva2_o365_to_coco/eva2_o365_to_coco_cascade_mask_rcnn_vitdet_l_8attn_1536_lrd0p8.py')\n",
    "eva02_weights_path = path.join(eva02_base_path, 'checkpoints/eva02_L_coco_seg_sys_o365.pth') \n",
    "\n",
    "input_image_path = path.join(data_base_path, 'image/input/cat02.jpg')\n",
    "output_dir = path.join(data_base_path, 'image/output/')\n",
    "\n",
    "eva02_model_id = r'zacbi2023/eva02'\n",
    "eva02_ckpt_path = path.join(ckpt_base_pth, eva02_model_id)"
   ]
  },
  {
   "cell_type": "markdown",
   "id": "93bc4acd-fab3-4998-9799-0625e3284b0d",
   "metadata": {
    "execution": {
     "iopub.execute_input": "2024-04-28T08:41:04.787757Z",
     "iopub.status.busy": "2024-04-28T08:41:04.787414Z",
     "iopub.status.idle": "2024-04-28T08:41:04.790383Z",
     "shell.execute_reply": "2024-04-28T08:41:04.789874Z",
     "shell.execute_reply.started": "2024-04-28T08:41:04.787735Z"
    },
    "tags": []
   },
   "source": [
    "### download model"
   ]
  },
  {
   "cell_type": "code",
   "execution_count": null,
   "id": "84537b91-398d-44c0-be8f-a7874b442eaa",
   "metadata": {
    "ExecutionIndicator": {
     "show": false
    },
    "execution": {
     "iopub.execute_input": "2024-04-28T08:41:37.480571Z",
     "iopub.status.busy": "2024-04-28T08:41:37.480233Z",
     "iopub.status.idle": "2024-04-28T08:53:01.260905Z",
     "shell.execute_reply": "2024-04-28T08:53:01.260390Z",
     "shell.execute_reply.started": "2024-04-28T08:41:37.480547Z"
    },
    "scrolled": true,
    "tags": []
   },
   "outputs": [],
   "source": [
    "if not path.exists(eva02_base_path):\n",
    "    snapshot_download('zacbi2023/eva02', cache_dir = ckpt_base_pth, ignore_file_pattern='eva02_L_ade_seg_upernet_sz640.pth')"
   ]
  },
  {
   "cell_type": "markdown",
   "id": "de1c4b9a-0e24-438b-8232-424f9e74d36a",
   "metadata": {},
   "source": [
    "### config base"
   ]
  },
  {
   "cell_type": "code",
   "execution_count": null,
   "id": "e00b7195-b64c-4557-9e86-1506e5fc9348",
   "metadata": {
    "ExecutionIndicator": {
     "show": true
    },
    "execution": {
     "iopub.execute_input": "2024-04-28T10:36:45.500875Z",
     "iopub.status.busy": "2024-04-28T10:36:45.500278Z",
     "iopub.status.idle": "2024-04-28T10:36:45.503751Z",
     "shell.execute_reply": "2024-04-28T10:36:45.503187Z",
     "shell.execute_reply.started": "2024-04-28T10:36:45.500857Z"
    },
    "tags": []
   },
   "outputs": [],
   "source": [
    "config_file = eva02_config_path\n",
    "custum_cfg = ['MODEL.RETINANET.SCORE_THRESH_TEST', 0.5,\n",
    "              'MODEL.ROI_HEADS.SCORE_THRESH_TEST', 0.5,\n",
    "              'MODEL.PANOPTIC_FPN.COMBINE.INSTANCES_CONFIDENCE_THRESH', 0.5,\n",
    "              'DATASETS.TEST', [],\n",
    "            'MODEL.WEIGHTS', eva02_weights_path]"
   ]
  },
  {
   "cell_type": "markdown",
   "id": "0123d242-252a-4201-bf1a-f2ad1f8fe2e8",
   "metadata": {},
   "source": [
    "### load via LazyConfig"
   ]
  },
  {
   "cell_type": "code",
   "execution_count": null,
   "id": "0cc8f316-a8f4-4e99-87b6-3931110b7144",
   "metadata": {
    "execution": {
     "iopub.execute_input": "2024-04-28T10:36:47.526623Z",
     "iopub.status.busy": "2024-04-28T10:36:47.526034Z",
     "iopub.status.idle": "2024-04-28T10:36:47.720079Z",
     "shell.execute_reply": "2024-04-28T10:36:47.719445Z",
     "shell.execute_reply.started": "2024-04-28T10:36:47.526601Z"
    },
    "scrolled": true,
    "tags": []
   },
   "outputs": [],
   "source": [
    "cfg = LazyConfig.load(config_file)\n",
    "LazyConfig.apply_overrides(cfg, [f\"{key}={value}\" for key, value in zip(custum_cfg[::2], custum_cfg[1::2])])"
   ]
  },
  {
   "cell_type": "markdown",
   "id": "26c6772f-e06b-4af8-bf94-aa8d6610bae1",
   "metadata": {},
   "source": [
    "### load via get_cfg()"
   ]
  },
  {
   "cell_type": "code",
   "execution_count": null,
   "id": "7ea33916-adad-42e7-a377-44abf8dde4c1",
   "metadata": {},
   "outputs": [],
   "source": [
    "cfg = get_cfg()\n",
    "cfg.merge_from_file(config_file)\n",
    "cfg.merge_from_list([f\"{key}={value}\" for key, value in zip(custum_cfg[::2], custum_cfg[1::2])])"
   ]
  },
  {
   "cell_type": "markdown",
   "id": "c9224bf0-f966-4d08-b070-7ef8d25c24a8",
   "metadata": {},
   "source": [
    "## Infer"
   ]
  },
  {
   "cell_type": "code",
   "execution_count": null,
   "id": "cd58e3f0-152e-4672-a492-3927a9175e9e",
   "metadata": {
    "ExecutionIndicator": {
     "show": true
    },
    "execution": {
     "iopub.execute_input": "2024-04-28T10:36:53.090732Z",
     "iopub.status.busy": "2024-04-28T10:36:53.090238Z",
     "iopub.status.idle": "2024-04-28T10:36:59.652958Z",
     "shell.execute_reply": "2024-04-28T10:36:59.652478Z",
     "shell.execute_reply.started": "2024-04-28T10:36:53.090711Z"
    },
    "scrolled": true,
    "tags": []
   },
   "outputs": [],
   "source": [
    "from detectron2.config import instantiate\n",
    "model = instantiate(cfg.model)\n",
    "model.to('cuda')"
   ]
  },
  {
   "cell_type": "code",
   "execution_count": null,
   "id": "b43e979d-42c9-4bca-a219-aad722025ff2",
   "metadata": {
    "ExecutionIndicator": {
     "show": true
    },
    "execution": {
     "iopub.execute_input": "2024-04-28T10:37:01.534936Z",
     "iopub.status.busy": "2024-04-28T10:37:01.534299Z",
     "iopub.status.idle": "2024-04-28T10:37:02.677131Z",
     "shell.execute_reply": "2024-04-28T10:37:02.676665Z",
     "shell.execute_reply.started": "2024-04-28T10:37:01.534917Z"
    },
    "scrolled": true,
    "tags": []
   },
   "outputs": [],
   "source": [
    "from detectron2.checkpoint import DetectionCheckpointer\n",
    "DetectionCheckpointer(model).load(eva02_weights_path)\n",
    "model.eval()"
   ]
  },
  {
   "cell_type": "code",
   "execution_count": null,
   "id": "b7fa2ee8-1e5f-428f-8cb9-a5f0fe25b8ac",
   "metadata": {
    "ExecutionIndicator": {
     "show": true
    },
    "execution": {
     "iopub.execute_input": "2024-04-28T10:59:50.033048Z",
     "iopub.status.busy": "2024-04-28T10:59:50.032439Z",
     "iopub.status.idle": "2024-04-28T10:59:51.274096Z",
     "shell.execute_reply": "2024-04-28T10:59:51.273543Z",
     "shell.execute_reply.started": "2024-04-28T10:59:50.033028Z"
    },
    "tags": []
   },
   "outputs": [],
   "source": [
    "original_image = read_image(input_image_path, format=\"BGR\")\n",
    "height, width = original_image.shape[:2]\n",
    "image = torch.as_tensor(original_image.astype(\"float32\").transpose(2, 0, 1))\n",
    "inputs = {\"image\": image, \"height\": height, \"width\": width}\n",
    "predictions = model([inputs])[0]"
   ]
  },
  {
   "cell_type": "code",
   "execution_count": null,
   "id": "c2d565fa-38e8-4bd2-be95-4c8485a34430",
   "metadata": {
    "ExecutionIndicator": {
     "show": true
    },
    "execution": {
     "iopub.execute_input": "2024-04-28T10:59:53.164535Z",
     "iopub.status.busy": "2024-04-28T10:59:53.163947Z",
     "iopub.status.idle": "2024-04-28T10:59:53.167315Z",
     "shell.execute_reply": "2024-04-28T10:59:53.166674Z",
     "shell.execute_reply.started": "2024-04-28T10:59:53.164516Z"
    },
    "scrolled": true,
    "tags": []
   },
   "outputs": [],
   "source": [
    "original_image = original_image[:, :, ::-1]"
   ]
  },
  {
   "cell_type": "code",
   "execution_count": null,
   "id": "185f91a9-0c26-453f-bf14-388d42e9e96a",
   "metadata": {
    "ExecutionIndicator": {
     "show": true
    },
    "execution": {
     "iopub.execute_input": "2024-04-28T10:59:54.105656Z",
     "iopub.status.busy": "2024-04-28T10:59:54.105132Z",
     "iopub.status.idle": "2024-04-28T10:59:54.119372Z",
     "shell.execute_reply": "2024-04-28T10:59:54.118889Z",
     "shell.execute_reply.started": "2024-04-28T10:59:54.105638Z"
    },
    "tags": []
   },
   "outputs": [],
   "source": [
    "# 可视化器\n",
    "visualizer = Visualizer(original_image, None,\n",
    "                                instance_mode=ColorMode.IMAGE)"
   ]
  },
  {
   "cell_type": "code",
   "execution_count": null,
   "id": "0a9fa71b-61c6-4946-98d0-dbd74dc7086b",
   "metadata": {
    "ExecutionIndicator": {
     "show": true
    },
    "execution": {
     "iopub.execute_input": "2024-04-28T10:59:54.742317Z",
     "iopub.status.busy": "2024-04-28T10:59:54.741914Z",
     "iopub.status.idle": "2024-04-28T10:59:54.747906Z",
     "shell.execute_reply": "2024-04-28T10:59:54.747442Z",
     "shell.execute_reply.started": "2024-04-28T10:59:54.742300Z"
    },
    "tags": []
   },
   "outputs": [],
   "source": [
    "cpu_device = torch.device(\"cpu\")\n",
    "instances = predictions[\"instances\"].to(cpu_device)"
   ]
  },
  {
   "cell_type": "code",
   "execution_count": null,
   "id": "3a12811a-ef17-436f-86e0-37f36cfd1d72",
   "metadata": {
    "execution": {
     "iopub.execute_input": "2024-04-28T10:59:55.817639Z",
     "iopub.status.busy": "2024-04-28T10:59:55.817166Z",
     "iopub.status.idle": "2024-04-28T10:59:55.967280Z",
     "shell.execute_reply": "2024-04-28T10:59:55.966786Z",
     "shell.execute_reply.started": "2024-04-28T10:59:55.817621Z"
    },
    "tags": []
   },
   "outputs": [],
   "source": [
    "# 可视化输出\n",
    "vis_output = visualizer.draw_instance_predictions(\n",
    "                    predictions=instances)"
   ]
  },
  {
   "cell_type": "code",
   "execution_count": null,
   "id": "62223e72-3c2c-47d2-b798-d0db315e1c2d",
   "metadata": {
    "ExecutionIndicator": {
     "show": true
    },
    "execution": {
     "iopub.execute_input": "2024-04-28T11:00:13.842179Z",
     "iopub.status.busy": "2024-04-28T11:00:13.841690Z",
     "iopub.status.idle": "2024-04-28T11:00:13.890220Z",
     "shell.execute_reply": "2024-04-28T11:00:13.889736Z",
     "shell.execute_reply.started": "2024-04-28T11:00:13.842159Z"
    },
    "tags": []
   },
   "outputs": [],
   "source": [
    "vis_output.save(path.join(output_dir, 'cat02.jpg'))"
   ]
  }
 ],
 "metadata": {
  "kernelspec": {
   "display_name": "Python 3 (ipykernel)",
   "language": "python",
   "name": "python3"
  },
  "language_info": {
   "codemirror_mode": {
    "name": "ipython",
    "version": 3
   },
   "file_extension": ".py",
   "mimetype": "text/x-python",
   "name": "python",
   "nbconvert_exporter": "python",
   "pygments_lexer": "ipython3",
   "version": "3.10.13"
  }
 },
 "nbformat": 4,
 "nbformat_minor": 5
}
