{
 "cells": [
  {
   "cell_type": "code",
   "execution_count": null,
   "metadata": {
    "execution": {
     "iopub.execute_input": "2024-05-21T13:35:26.656417Z",
     "iopub.status.busy": "2024-05-21T13:35:26.655866Z",
     "iopub.status.idle": "2024-05-21T13:35:26.658969Z",
     "shell.execute_reply": "2024-05-21T13:35:26.658585Z",
     "shell.execute_reply.started": "2024-05-21T13:35:26.656398Z"
    },
    "tags": []
   },
   "outputs": [],
   "source": [
    "from os import path\n",
    "\n",
    "import torch\n",
    "from detectron2.checkpoint import DetectionCheckpointer\n",
    "from detectron2.config import LazyConfig, instantiate\n",
    "from diffusers import AutoPipelineForText2Image, DiffusionPipeline\n",
    "from diffusers_interpret import StableDiffusionPipelineDetExplainer\n",
    "\n",
    "from gill import layers\n",
    "\n",
    "from torch.cuda import amp"
   ]
  },
  {
   "cell_type": "code",
   "execution_count": null,
   "metadata": {
    "execution": {
     "iopub.execute_input": "2024-05-21T13:35:27.617093Z",
     "iopub.status.busy": "2024-05-21T13:35:27.616556Z",
     "iopub.status.idle": "2024-05-21T13:35:27.619406Z",
     "shell.execute_reply": "2024-05-21T13:35:27.618922Z",
     "shell.execute_reply.started": "2024-05-21T13:35:27.617075Z"
    },
    "tags": []
   },
   "outputs": [],
   "source": [
    "model_path = '/mnt/workspace/model'\n",
    "eva_id = 'zacbi2023/eva02'\n",
    "sd_id = 'AI-ModelScope/stable-diffusion-v1-5'"
   ]
  },
  {
   "cell_type": "code",
   "execution_count": null,
   "metadata": {
    "execution": {
     "iopub.execute_input": "2024-05-21T13:35:28.238338Z",
     "iopub.status.busy": "2024-05-21T13:35:28.237801Z",
     "iopub.status.idle": "2024-05-21T13:35:31.714889Z",
     "shell.execute_reply": "2024-05-21T13:35:31.714352Z",
     "shell.execute_reply.started": "2024-05-21T13:35:28.238310Z"
    },
    "tags": []
   },
   "outputs": [],
   "source": [
    "# prepare eva\n",
    "eva_base_path = path.join(model_path, eva_id)\n",
    "eva_coco_config_rpath = 'projects/ViTDet/configs/eva2_o365_to_coco/eva2_o365_to_coco_cascade_mask_rcnn_vitdet_l_8attn_1536_lrd0p8.py'\n",
    "eva_config_path = path.join(eva_base_path, eva_coco_config_rpath)\n",
    "\n",
    "# replace with your eva02 weights path\n",
    "eva_coco_weights_rpth = 'checkpoints/eva02_L_coco_seg_sys_o365.pth'\n",
    "eva_weights_path = path.join(eva_base_path, eva_coco_weights_rpth)\n",
    "\n",
    "custum_cfg = ['MODEL.RETINANET.SCORE_THRESH_TEST', 0.5,\n",
    "                'MODEL.ROI_HEADS.SCORE_THRESH_TEST', 0.5,\n",
    "                'MODEL.PANOPTIC_FPN.COMBINE.INSTANCES_CONFIDENCE_THRESH', 0.5,\n",
    "                'DATASETS.TEST', [],\n",
    "                'MODEL.WEIGHTS', eva_weights_path]\n",
    "eva_cfg = LazyConfig.load(eva_config_path)\n",
    "LazyConfig.apply_overrides(\n",
    "    eva_cfg, [f\"{key}={value}\" for key, value in zip(custum_cfg[::2], custum_cfg[1::2])])\n",
    "\n",
    "device = 'cuda'\n",
    "eva = instantiate(eva_cfg.model).to(device)\n",
    "DetectionCheckpointer(eva).load(eva_weights_path)\n",
    "eva.eval()"
   ]
  },
  {
   "cell_type": "code",
   "execution_count": null,
   "metadata": {
    "execution": {
     "iopub.execute_input": "2024-05-21T13:35:38.051602Z",
     "iopub.status.busy": "2024-05-21T13:35:38.051273Z",
     "iopub.status.idle": "2024-05-21T13:35:40.748164Z",
     "shell.execute_reply": "2024-05-21T13:35:40.747470Z",
     "shell.execute_reply.started": "2024-05-21T13:35:38.051583Z"
    },
    "tags": []
   },
   "outputs": [],
   "source": [
    "torch_dtype=torch.bfloat16\n",
    "sd_pipe = AutoPipelineForText2Image.from_pretrained(\n",
    "    path.join(model_path, sd_id), torch_dtype=torch_dtype).to(device)\n",
    "explainer = StableDiffusionPipelineDetExplainer(pipe=sd_pipe, det_model=eva)"
   ]
  },
  {
   "cell_type": "code",
   "execution_count": null,
   "metadata": {
    "execution": {
     "iopub.execute_input": "2024-05-21T13:35:42.449029Z",
     "iopub.status.busy": "2024-05-21T13:35:42.448719Z",
     "iopub.status.idle": "2024-05-21T13:35:42.728723Z",
     "shell.execute_reply": "2024-05-21T13:35:42.728112Z",
     "shell.execute_reply.started": "2024-05-21T13:35:42.449010Z"
    },
    "tags": []
   },
   "outputs": [],
   "source": [
    "\n",
    "raw_emb = torch.load('/mnt/workspace/data/tensor/raw_emb_tensor_cat_1.pt').to(torch_dtype)\n",
    "raw_emb.requires_grad_(True)\n",
    "# embedding img0-imge8\n",
    "gen_prefix_embs = torch.load('/mnt/workspace/data/tensor/gen_prefix_embs_tensor_cat_1.pt').to(torch_dtype)\n",
    "gen_prefix_embs.requires_grad_(True)\n",
    "\n",
    "# gill_mapper: linear + Transformer + linear\n",
    "gen_text_hidden_fcs = layers.GenTextHiddenFcs()\n",
    "gill_state_dict = torch.load('/mnt/workspace/github/gill/checkpoints/gill_opt/pretrained_ckpt.pth.tar')\n",
    "\n",
    "gen_text_hidden_fcs_state_dict = {}\n",
    "for key, val in gill_state_dict['state_dict'].items():\n",
    "    if 'gen_text_hidden_fcs' in key:\n",
    "        prefix = 'gen_text_hidden_fcs' + key.split('gen_text_hidden_fcs')[1]\n",
    "        gen_text_hidden_fcs_state_dict[prefix] = val\n",
    "gen_text_hidden_fcs.load_state_dict(gen_text_hidden_fcs_state_dict)\n",
    "gen_text_hidden_fcs.cuda()\n",
    "gen_text_hidden_fcs.to(torch_dtype)"
   ]
  },
  {
   "cell_type": "code",
   "execution_count": null,
   "metadata": {
    "execution": {
     "iopub.execute_input": "2024-05-21T13:35:47.299248Z",
     "iopub.status.busy": "2024-05-21T13:35:47.298949Z",
     "iopub.status.idle": "2024-05-21T13:35:49.193374Z",
     "shell.execute_reply": "2024-05-21T13:35:49.192877Z",
     "shell.execute_reply.started": "2024-05-21T13:35:47.299230Z"
    },
    "tags": []
   },
   "outputs": [],
   "source": [
    "gen_emb = gen_text_hidden_fcs.gen_text_hidden_fcs[0](raw_emb, gen_prefix_embs)"
   ]
  },
  {
   "cell_type": "code",
   "execution_count": null,
   "metadata": {
    "execution": {
     "iopub.execute_input": "2024-05-20T12:28:56.243903Z",
     "iopub.status.busy": "2024-05-20T12:28:56.243559Z",
     "iopub.status.idle": "2024-05-20T12:29:08.725732Z",
     "shell.execute_reply": "2024-05-20T12:29:08.724747Z",
     "shell.execute_reply.started": "2024-05-20T12:28:56.243880Z"
    },
    "tags": []
   },
   "outputs": [],
   "source": [
    "with torch.cuda.amp.autocast(dtype=torch.float16):\n",
    "    output = explainer(\n",
    "        prompt_embeds=gen_emb,\n",
    "        num_inference_steps=50,\n",
    "        target_cls_id=15,\n",
    "        raw_embeds=raw_emb,\n",
    "        n_last_diffusion_steps_to_consider_for_attributions=1\n",
    "    )"
   ]
  },
  {
   "cell_type": "code",
   "execution_count": null,
   "metadata": {},
   "outputs": [],
   "source": [
    "output.token_attributions"
   ]
  }
 ],
 "metadata": {
  "kernelspec": {
   "display_name": "Python 3 (ipykernel)",
   "language": "python",
   "name": "python3"
  },
  "language_info": {
   "codemirror_mode": {
    "name": "ipython",
    "version": 3
   },
   "file_extension": ".py",
   "mimetype": "text/x-python",
   "name": "python",
   "nbconvert_exporter": "python",
   "pygments_lexer": "ipython3",
   "version": "3.10.13"
  }
 },
 "nbformat": 4,
 "nbformat_minor": 4
}
