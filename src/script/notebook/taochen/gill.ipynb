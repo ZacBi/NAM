{
 "cells": [
  {
   "cell_type": "code",
   "execution_count": 1,
   "metadata": {},
   "outputs": [
    {
     "name": "stderr",
     "output_type": "stream",
     "text": [
      "/Users/zacbi/miniconda3/envs/llava/lib/python3.10/site-packages/tqdm/auto.py:21: TqdmWarning: IProgress not found. Please update jupyter and ipywidgets. See https://ipywidgets.readthedocs.io/en/stable/user_install.html\n",
      "  from .autonotebook import tqdm as notebook_tqdm\n",
      "/Users/zacbi/miniconda3/envs/llava/lib/python3.10/site-packages/torchvision/io/image.py:13: UserWarning: Failed to load image Python extension: 'dlopen(/Users/zacbi/miniconda3/envs/llava/lib/python3.10/site-packages/torchvision/image.so, 0x0006): Symbol not found: __ZN3c1017RegisterOperatorsD1Ev\n",
      "  Referenced from: <9A4710B9-0DA3-36BB-9129-645F282E64B2> /Users/zacbi/miniconda3/envs/llava/lib/python3.10/site-packages/torchvision/image.so\n",
      "  Expected in:     <E459C462-F863-3A5A-AC9F-FD77B14BE845> /Users/zacbi/miniconda3/envs/llava/lib/python3.10/site-packages/torch/lib/libtorch_cpu.dylib'If you don't plan on using image functionality from `torchvision.io`, you can ignore this warning. Otherwise, there might be something wrong with your environment. Did you have `libjpeg` or `libpng` installed before building `torchvision` from source?\n",
      "  warn(\n"
     ]
    }
   ],
   "source": [
    "from os import path\n",
    "\n",
    "import torch\n",
    "from detectron2.checkpoint import DetectionCheckpointer\n",
    "from detectron2.config import LazyConfig, instantiate\n",
    "from diffusers import AutoPipelineForText2Image, DiffusionPipeline\n",
    "from diffusers_interpret import StableDiffusionPipelineDetExplainer"
   ]
  },
  {
   "cell_type": "code",
   "execution_count": null,
   "metadata": {},
   "outputs": [],
   "source": [
    "model_path = '/mnt/workspace/model'\n",
    "eva_id = 'zacbi2023/eva02'\n",
    "sd_id = 'AI-ModelScope/stable-diffusion-v1-5'"
   ]
  },
  {
   "cell_type": "code",
   "execution_count": null,
   "metadata": {},
   "outputs": [],
   "source": [
    "# prepare eva\n",
    "eva_base_path = path.join(model_path, eva_id)\n",
    "eva_coco_config_rpath = 'projects/ViTDet/configs/eva2_o365_to_coco/eva2_o365_to_coco_cascade_mask_rcnn_vitdet_l_8attn_1536_lrd0p8.py'\n",
    "eva_config_path = path.join(eva_base_path, eva_coco_config_rpath)\n",
    "\n",
    "# replace with your eva02 weights path\n",
    "eva_coco_weights_rpth = 'checkpoints/eva02_L_coco_seg_sys_o365.pth'\n",
    "eva_weights_path = path.join(eva_base_path, eva_coco_weights_rpth)\n",
    "\n",
    "custum_cfg = ['MODEL.RETINANET.SCORE_THRESH_TEST', 0.5,\n",
    "                'MODEL.ROI_HEADS.SCORE_THRESH_TEST', 0.5,\n",
    "                'MODEL.PANOPTIC_FPN.COMBINE.INSTANCES_CONFIDENCE_THRESH', 0.5,\n",
    "                'DATASETS.TEST', [],\n",
    "                'MODEL.WEIGHTS', eva_weights_path]\n",
    "eva_cfg = LazyConfig.load(eva_config_path)\n",
    "LazyConfig.apply_overrides(\n",
    "    eva_cfg, [f\"{key}={value}\" for key, value in zip(custum_cfg[::2], custum_cfg[1::2])])\n",
    "\n",
    "device = 'cuda'\n",
    "eva = instantiate(eva_cfg.model).to(device)\n",
    "DetectionCheckpointer(eva).load(eva_weights_path)\n",
    "eva.eval()"
   ]
  },
  {
   "cell_type": "code",
   "execution_count": null,
   "metadata": {},
   "outputs": [],
   "source": [
    "torch_dtype='float16'\n",
    "sd_pipe = AutoPipelineForText2Image.from_pretrained(\n",
    "    path.join(model_path, sd_id), torch_dtype=torch_dtype).to(device)\n",
    "explainer = StableDiffusionPipelineDetExplainer(pipe=sd_pipe, det_model=eva)\n"
   ]
  },
  {
   "cell_type": "code",
   "execution_count": null,
   "metadata": {},
   "outputs": [],
   "source": [
    "raw_emb = torch.load('')\n",
    "gen_prefix_embs = torch.load('')\n",
    "\n",
    "gen_text_hidden_fcs = torch.load('')\n",
    "gen_emb = gen_text_hidden_fcs[0](raw_emb, gen_prefix_embs)\n",
    "gen_emb = gen_text_hidden_fcs[0](raw_emb, gen_prefix_embs)\n",
    "\n",
    "\n",
    "explainer(\n",
    "    prompt_embeds=gen_emb,\n",
    "    num_inference_steps=50,\n",
    "    target_cls_id=15,\n",
    "    raw_emb=raw_emb\n",
    ")"
   ]
  }
 ],
 "metadata": {
  "kernelspec": {
   "display_name": "llava",
   "language": "python",
   "name": "python3"
  },
  "language_info": {
   "codemirror_mode": {
    "name": "ipython",
    "version": 3
   },
   "file_extension": ".py",
   "mimetype": "text/x-python",
   "name": "python",
   "nbconvert_exporter": "python",
   "pygments_lexer": "ipython3",
   "version": "3.10.14"
  }
 },
 "nbformat": 4,
 "nbformat_minor": 2
}
