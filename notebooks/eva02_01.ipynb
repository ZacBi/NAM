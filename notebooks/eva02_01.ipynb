{
 "cells": [
  {
   "cell_type": "markdown",
   "id": "8bee1a0f-019e-4965-86da-ff6df855d6c0",
   "metadata": {},
   "source": [
    "# Eva 02"
   ]
  },
  {
   "cell_type": "markdown",
   "id": "29cb82e8-606e-4ec4-9aae-b10b31fec35e",
   "metadata": {},
   "source": [
    "## prepare"
   ]
  },
  {
   "cell_type": "code",
   "execution_count": null,
   "id": "b2829133-425d-4c2f-81e7-79faf787c4a1",
   "metadata": {
    "ExecutionIndicator": {
     "show": true
    },
    "execution": {
     "iopub.execute_input": "2024-05-21T11:33:44.914092Z",
     "iopub.status.busy": "2024-05-21T11:33:44.913643Z",
     "iopub.status.idle": "2024-05-21T11:33:44.917144Z",
     "shell.execute_reply": "2024-05-21T11:33:44.916606Z",
     "shell.execute_reply.started": "2024-05-21T11:33:44.914070Z"
    },
    "tags": []
   },
   "outputs": [],
   "source": [
    "from os import path\n",
    "\n",
    "import torch\n",
    "from detectron2.checkpoint import DetectionCheckpointer\n",
    "from detectron2.config import LazyConfig, get_cfg, instantiate\n",
    "from detectron2.data.detection_utils import read_image\n",
    "from detectron2.utils.visualizer import ColorMode, Visualizer\n",
    "from modelscope.hub.snapshot_download import snapshot_download\n"
   ]
  },
  {
   "cell_type": "code",
   "execution_count": null,
   "id": "b85d514f-9139-4c7f-9380-e1990e873e5e",
   "metadata": {
    "ExecutionIndicator": {
     "show": true
    },
    "execution": {
     "iopub.execute_input": "2024-05-21T12:04:59.748429Z",
     "iopub.status.busy": "2024-05-21T12:04:59.747832Z",
     "iopub.status.idle": "2024-05-21T12:04:59.751833Z",
     "shell.execute_reply": "2024-05-21T12:04:59.751385Z",
     "shell.execute_reply.started": "2024-05-21T12:04:59.748407Z"
    },
    "tags": []
   },
   "outputs": [],
   "source": [
    "base_url = r'/mnt/workspace'\n",
    "ckpt_base_path = path.join(base_url, 'model')\n",
    "data_base_path = path.join(base_url, \"data\")\n",
    "\n",
    "# replace with your eva02 path \n",
    "eva02_modelscope_id = 'zacbi2023/eva02'\n",
    "eva02_base_path = path.join(ckpt_base_path, eva02_modelscope_id)\n",
    "\n",
    "# replace with your eva02 config path \n",
    "eva02_coco_config_rpath = 'projects/ViTDet/configs/eva2_o365_to_coco/eva2_o365_to_coco_cascade_mask_rcnn_vitdet_l_8attn_1536_lrd0p8.py'\n",
    "eva02_config_path = path.join(eva02_base_path, eva02_coco_config_rpath)\n",
    "\n",
    "# replace with your eva02 weights path \n",
    "eva02_coco_weights_rpth = 'checkpoints/eva02_L_coco_seg_sys_o365.pth'\n",
    "eva02_weights_path = path.join(eva02_base_path, eva02_coco_weights_rpth) \n",
    "\n",
    "# replace with your image_name\n",
    "image_name = 'camera1.png'\n",
    "input_image_path = path.join(data_base_path, 'image/sd/GILL_output/', image_name)\n",
    "output_image_path = path.join(data_base_path, 'image/eva/output', image_name)"
   ]
  },
  {
   "cell_type": "markdown",
   "id": "93bc4acd-fab3-4998-9799-0625e3284b0d",
   "metadata": {
    "execution": {
     "iopub.execute_input": "2024-04-28T08:41:04.787757Z",
     "iopub.status.busy": "2024-04-28T08:41:04.787414Z",
     "iopub.status.idle": "2024-04-28T08:41:04.790383Z",
     "shell.execute_reply": "2024-04-28T08:41:04.789874Z",
     "shell.execute_reply.started": "2024-04-28T08:41:04.787735Z"
    },
    "tags": []
   },
   "source": [
    "### download model"
   ]
  },
  {
   "cell_type": "code",
   "execution_count": null,
   "id": "84537b91-398d-44c0-be8f-a7874b442eaa",
   "metadata": {
    "ExecutionIndicator": {
     "show": false
    },
    "execution": {
     "iopub.execute_input": "2024-05-21T11:33:47.947592Z",
     "iopub.status.busy": "2024-05-21T11:33:47.947249Z",
     "iopub.status.idle": "2024-05-21T11:33:47.950802Z",
     "shell.execute_reply": "2024-05-21T11:33:47.950074Z",
     "shell.execute_reply.started": "2024-05-21T11:33:47.947573Z"
    },
    "scrolled": true,
    "tags": []
   },
   "outputs": [],
   "source": [
    "# ignore semantic segmentation ckpt\n",
    "if not path.exists(eva02_base_path):\n",
    "    snapshot_download(eva02_modelscope_id, cache_dir = ckpt_base_path, ignore_file_pattern='eva02_L_ade_seg_upernet_sz640.pth')"
   ]
  },
  {
   "cell_type": "markdown",
   "id": "de1c4b9a-0e24-438b-8232-424f9e74d36a",
   "metadata": {},
   "source": [
    "### config base"
   ]
  },
  {
   "cell_type": "code",
   "execution_count": null,
   "id": "e00b7195-b64c-4557-9e86-1506e5fc9348",
   "metadata": {
    "ExecutionIndicator": {
     "show": false
    },
    "execution": {
     "iopub.execute_input": "2024-05-21T11:33:49.190694Z",
     "iopub.status.busy": "2024-05-21T11:33:49.190393Z",
     "iopub.status.idle": "2024-05-21T11:33:49.193887Z",
     "shell.execute_reply": "2024-05-21T11:33:49.193149Z",
     "shell.execute_reply.started": "2024-05-21T11:33:49.190674Z"
    },
    "tags": []
   },
   "outputs": [],
   "source": [
    "# hardcode threshold\n",
    "config_file = eva02_config_path\n",
    "custum_cfg = ['MODEL.RETINANET.SCORE_THRESH_TEST', 0.5,\n",
    "              'MODEL.ROI_HEADS.SCORE_THRESH_TEST', 0.5,\n",
    "              'MODEL.PANOPTIC_FPN.COMBINE.INSTANCES_CONFIDENCE_THRESH', 0.5,\n",
    "              'DATASETS.TEST', [],\n",
    "            'MODEL.WEIGHTS', eva02_weights_path]"
   ]
  },
  {
   "cell_type": "markdown",
   "id": "0123d242-252a-4201-bf1a-f2ad1f8fe2e8",
   "metadata": {},
   "source": [
    "### load via LazyConfig"
   ]
  },
  {
   "cell_type": "code",
   "execution_count": null,
   "id": "0cc8f316-a8f4-4e99-87b6-3931110b7144",
   "metadata": {
    "execution": {
     "iopub.execute_input": "2024-05-21T11:33:51.962085Z",
     "iopub.status.busy": "2024-05-21T11:33:51.961529Z",
     "iopub.status.idle": "2024-05-21T11:33:52.067580Z",
     "shell.execute_reply": "2024-05-21T11:33:52.067156Z",
     "shell.execute_reply.started": "2024-05-21T11:33:51.962065Z"
    },
    "scrolled": true,
    "tags": []
   },
   "outputs": [],
   "source": [
    "cfg = LazyConfig.load(config_file)\n",
    "LazyConfig.apply_overrides(cfg, [f\"{key}={value}\" for key, value in zip(custum_cfg[::2], custum_cfg[1::2])])"
   ]
  },
  {
   "cell_type": "markdown",
   "id": "26c6772f-e06b-4af8-bf94-aa8d6610bae1",
   "metadata": {},
   "source": [
    "### load via get_cfg()"
   ]
  },
  {
   "cell_type": "code",
   "execution_count": null,
   "id": "7ea33916-adad-42e7-a377-44abf8dde4c1",
   "metadata": {
    "execution": {
     "iopub.execute_input": "2024-05-21T11:31:53.404186Z",
     "iopub.status.busy": "2024-05-21T11:31:53.403866Z",
     "iopub.status.idle": "2024-05-21T11:31:53.406528Z",
     "shell.execute_reply": "2024-05-21T11:31:53.406106Z",
     "shell.execute_reply.started": "2024-05-21T11:31:53.404168Z"
    },
    "tags": []
   },
   "outputs": [],
   "source": [
    "# not use!!!!\n",
    "# cfg = get_cfg()\n",
    "# cfg.merge_from_file(config_file)\n",
    "# cfg.merge_from_list([f\"{key}={value}\" for key, value in zip(custum_cfg[::2], custum_cfg[1::2])])"
   ]
  },
  {
   "cell_type": "markdown",
   "id": "c9224bf0-f966-4d08-b070-7ef8d25c24a8",
   "metadata": {},
   "source": [
    "## Infer"
   ]
  },
  {
   "cell_type": "code",
   "execution_count": null,
   "id": "cd58e3f0-152e-4672-a492-3927a9175e9e",
   "metadata": {
    "ExecutionIndicator": {
     "show": true
    },
    "execution": {
     "iopub.execute_input": "2024-05-21T11:33:54.981575Z",
     "iopub.status.busy": "2024-05-21T11:33:54.980968Z",
     "iopub.status.idle": "2024-05-21T11:33:59.125743Z",
     "shell.execute_reply": "2024-05-21T11:33:59.125138Z",
     "shell.execute_reply.started": "2024-05-21T11:33:54.981555Z"
    },
    "scrolled": true,
    "tags": []
   },
   "outputs": [],
   "source": [
    "model = instantiate(cfg.model)\n",
    "model.to('cuda')"
   ]
  },
  {
   "cell_type": "code",
   "execution_count": null,
   "id": "b43e979d-42c9-4bca-a219-aad722025ff2",
   "metadata": {
    "ExecutionIndicator": {
     "show": true
    },
    "execution": {
     "iopub.execute_input": "2024-05-21T11:34:01.364376Z",
     "iopub.status.busy": "2024-05-21T11:34:01.363802Z",
     "iopub.status.idle": "2024-05-21T11:34:02.101026Z",
     "shell.execute_reply": "2024-05-21T11:34:02.100614Z",
     "shell.execute_reply.started": "2024-05-21T11:34:01.364355Z"
    },
    "scrolled": true,
    "tags": []
   },
   "outputs": [],
   "source": [
    "DetectionCheckpointer(model).load(eva02_weights_path)\n",
    "model.eval()"
   ]
  },
  {
   "cell_type": "code",
   "execution_count": null,
   "id": "89c3e7c9-e579-4d48-89d4-82b4c32252a5",
   "metadata": {
    "execution": {
     "iopub.execute_input": "2024-05-21T12:05:03.415951Z",
     "iopub.status.busy": "2024-05-21T12:05:03.415399Z",
     "iopub.status.idle": "2024-05-21T12:05:04.679027Z",
     "shell.execute_reply": "2024-05-21T12:05:04.678558Z",
     "shell.execute_reply.started": "2024-05-21T12:05:03.415931Z"
    },
    "tags": []
   },
   "outputs": [],
   "source": [
    "original_image = read_image(input_image_path, format=\"BGR\")\n",
    "height, width = original_image.shape[:2]\n",
    "image = torch.as_tensor(original_image.astype(\"float16\").transpose(2, 0, 1))\n",
    "inputs = {\"image\": image, \"height\": height, \"width\": width}\n",
    "predictions = model([inputs])[0]\n",
    "print(predictions)"
   ]
  },
  {
   "cell_type": "markdown",
   "id": "5ea61cda-7c6a-4b68-899d-2a0488b121c0",
   "metadata": {},
   "source": []
  },
  {
   "cell_type": "code",
   "execution_count": null,
   "id": "b7fa2ee8-1e5f-428f-8cb9-a5f0fe25b8ac",
   "metadata": {
    "ExecutionIndicator": {
     "show": true
    },
    "execution": {
     "iopub.execute_input": "2024-05-21T11:58:36.251575Z",
     "iopub.status.busy": "2024-05-21T11:58:36.251223Z",
     "iopub.status.idle": "2024-05-21T11:58:37.509536Z",
     "shell.execute_reply": "2024-05-21T11:58:37.509014Z",
     "shell.execute_reply.started": "2024-05-21T11:58:36.251553Z"
    },
    "tags": []
   },
   "outputs": [],
   "source": [
    "original_image = read_image(input_image_path, format=\"BGR\")\n",
    "height, width = original_image.shape[:2]\n",
    "image = torch.as_tensor(original_image.astype(\"float16\").transpose(2, 0, 1))\n",
    "inputs = {\"image\": image, \"height\": height, \"width\": width}\n",
    "predictions = model([inputs])[0]"
   ]
  },
  {
   "cell_type": "code",
   "execution_count": null,
   "id": "c2d565fa-38e8-4bd2-be95-4c8485a34430",
   "metadata": {
    "ExecutionIndicator": {
     "show": true
    },
    "execution": {
     "iopub.execute_input": "2024-05-21T12:05:07.655763Z",
     "iopub.status.busy": "2024-05-21T12:05:07.655289Z",
     "iopub.status.idle": "2024-05-21T12:05:07.658356Z",
     "shell.execute_reply": "2024-05-21T12:05:07.657802Z",
     "shell.execute_reply.started": "2024-05-21T12:05:07.655742Z"
    },
    "scrolled": true,
    "tags": []
   },
   "outputs": [],
   "source": [
    "original_image = original_image[:, :, ::-1]"
   ]
  },
  {
   "cell_type": "code",
   "execution_count": null,
   "id": "185f91a9-0c26-453f-bf14-388d42e9e96a",
   "metadata": {
    "ExecutionIndicator": {
     "show": true
    },
    "execution": {
     "iopub.execute_input": "2024-05-21T12:05:08.839670Z",
     "iopub.status.busy": "2024-05-21T12:05:08.839106Z",
     "iopub.status.idle": "2024-05-21T12:05:08.855373Z",
     "shell.execute_reply": "2024-05-21T12:05:08.854862Z",
     "shell.execute_reply.started": "2024-05-21T12:05:08.839647Z"
    },
    "tags": []
   },
   "outputs": [],
   "source": [
    "# visualizer\n",
    "visualizer = Visualizer(original_image, None,\n",
    "                                instance_mode=ColorMode.IMAGE)"
   ]
  },
  {
   "cell_type": "code",
   "execution_count": null,
   "id": "0a9fa71b-61c6-4946-98d0-dbd74dc7086b",
   "metadata": {
    "ExecutionIndicator": {
     "show": true
    },
    "execution": {
     "iopub.execute_input": "2024-05-21T12:05:09.711033Z",
     "iopub.status.busy": "2024-05-21T12:05:09.710495Z",
     "iopub.status.idle": "2024-05-21T12:05:09.713809Z",
     "shell.execute_reply": "2024-05-21T12:05:09.713345Z",
     "shell.execute_reply.started": "2024-05-21T12:05:09.711010Z"
    },
    "tags": []
   },
   "outputs": [],
   "source": [
    "cpu_device = torch.device(\"cpu\")\n",
    "instances = predictions[\"instances\"].to(cpu_device)"
   ]
  },
  {
   "cell_type": "code",
   "execution_count": null,
   "id": "3a12811a-ef17-436f-86e0-37f36cfd1d72",
   "metadata": {
    "execution": {
     "iopub.execute_input": "2024-05-21T12:05:10.263710Z",
     "iopub.status.busy": "2024-05-21T12:05:10.263376Z",
     "iopub.status.idle": "2024-05-21T12:05:10.280719Z",
     "shell.execute_reply": "2024-05-21T12:05:10.280230Z",
     "shell.execute_reply.started": "2024-05-21T12:05:10.263681Z"
    },
    "tags": []
   },
   "outputs": [],
   "source": [
    "# vis_output\n",
    "vis_output = visualizer.draw_instance_predictions(\n",
    "                    predictions=instances)"
   ]
  },
  {
   "cell_type": "code",
   "execution_count": null,
   "id": "62223e72-3c2c-47d2-b798-d0db315e1c2d",
   "metadata": {
    "ExecutionIndicator": {
     "show": true
    },
    "execution": {
     "iopub.execute_input": "2024-05-21T12:05:29.693143Z",
     "iopub.status.busy": "2024-05-21T12:05:29.692601Z",
     "iopub.status.idle": "2024-05-21T12:05:29.818475Z",
     "shell.execute_reply": "2024-05-21T12:05:29.817939Z",
     "shell.execute_reply.started": "2024-05-21T12:05:29.693120Z"
    },
    "tags": []
   },
   "outputs": [],
   "source": [
    "# save\n",
    "vis_output.save(output_image_path)"
   ]
  },
  {
   "cell_type": "code",
   "execution_count": null,
   "id": "672fcf62",
   "metadata": {
    "execution": {
     "iopub.execute_input": "2024-05-21T12:05:12.397271Z",
     "iopub.status.busy": "2024-05-21T12:05:12.396938Z",
     "iopub.status.idle": "2024-05-21T12:05:12.403384Z",
     "shell.execute_reply": "2024-05-21T12:05:12.402930Z",
     "shell.execute_reply.started": "2024-05-21T12:05:12.397250Z"
    },
    "tags": []
   },
   "outputs": [],
   "source": [
    "instances = predictions['instances']\n",
    "instances"
   ]
  },
  {
   "cell_type": "code",
   "execution_count": null,
   "id": "a9737498",
   "metadata": {
    "execution": {
     "iopub.execute_input": "2024-05-21T12:04:45.922497Z",
     "iopub.status.busy": "2024-05-21T12:04:45.921929Z",
     "iopub.status.idle": "2024-05-21T12:04:45.924881Z",
     "shell.execute_reply": "2024-05-21T12:04:45.924360Z",
     "shell.execute_reply.started": "2024-05-21T12:04:45.922477Z"
    },
    "tags": []
   },
   "outputs": [],
   "source": [
    "pred_masks = instances.pred_masks\n",
    "pred_classes = instances.pred_classes"
   ]
  },
  {
   "cell_type": "code",
   "execution_count": null,
   "id": "3d3838d2",
   "metadata": {},
   "outputs": [],
   "source": [
    "torch.sum(pred_masks[1]) + torch.sum(pred_masks[3]), torch.sum(instances.pred_masks[instances.pred_classes == 15])"
   ]
  },
  {
   "cell_type": "markdown",
   "id": "cac7494d",
   "metadata": {},
   "source": []
  },
  {
   "cell_type": "markdown",
   "id": "02d9c78b",
   "metadata": {},
   "source": []
  },
  {
   "cell_type": "code",
   "execution_count": null,
   "id": "678ad88d",
   "metadata": {},
   "outputs": [],
   "source": []
  }
 ],
 "metadata": {
  "kernelspec": {
   "display_name": "llava",
   "language": "python",
   "name": "python3"
  },
  "language_info": {
   "codemirror_mode": {
    "name": "ipython",
    "version": 3
   },
   "file_extension": ".py",
   "mimetype": "text/x-python",
   "name": "python",
   "nbconvert_exporter": "python",
   "pygments_lexer": "ipython3",
   "version": "3.10.14"
  }
 },
 "nbformat": 4,
 "nbformat_minor": 5
}
